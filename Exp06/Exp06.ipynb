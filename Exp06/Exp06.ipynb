{
 "cells": [
  {
   "cell_type": "code",
   "execution_count": 2,
   "id": "dc16d75c",
   "metadata": {},
   "outputs": [
    {
     "name": "stdout",
     "output_type": "stream",
     "text": [
      "Original input:  [1 2 3 4]\n",
      "Walsh Transform Result:  [10 -2 -4  0]\n",
      "Hadamard Transform Result:  [10 -2 -4  0]\n",
      "DCT Transform Result:  [ 5.         -2.2304425   0.         -0.15851267]\n",
      "Haar Transform Result:  [ 2  0 -1  0]\n"
     ]
    }
   ],
   "source": [
    "import numpy as np\n",
    "from scipy.fftpack import dct\n",
    "\n",
    "# --- Walsh Transform --- #\n",
    "def hadamard_matrix(n):\n",
    "    \"\"\"Generate Hadamard matrix of order n\"\"\"\n",
    "    if n == 1:\n",
    "        return np.array([[1]])\n",
    "    else:\n",
    "        H = hadamard_matrix(n // 2)\n",
    "        return np.block([[H, H], [H, -H]])\n",
    "\n",
    "def walsh_transform(input_vector):\n",
    "    \"\"\"Compute Walsh Transform using Hadamard matrices\"\"\"\n",
    "    n = len(input_vector)\n",
    "    if n & (n - 1) != 0:\n",
    "        raise ValueError(\"Input length must be a power of 2\")\n",
    "    \n",
    "    H = hadamard_matrix(n)\n",
    "    return np.dot(H, input_vector)\n",
    "\n",
    "# --- Hadamard Transform --- #\n",
    "def hadamard_transform(input_vector):\n",
    "    \"\"\"Compute Hadamard Transform using Hadamard matrix\"\"\"\n",
    "    n = len(input_vector)\n",
    "    if n & (n - 1) != 0:\n",
    "        raise ValueError(\"Input length must be a power of 2\")\n",
    "    \n",
    "    H = hadamard_matrix(n)\n",
    "    return np.dot(H, input_vector)\n",
    "\n",
    "# --- Discrete Cosine Transform (DCT) --- #\n",
    "def dct_transform(input_vector):\n",
    "    \"\"\"Compute Discrete Cosine Transform (DCT)\"\"\"\n",
    "    return dct(input_vector, type=2, norm='ortho')\n",
    "\n",
    "# --- Haar Transform --- #\n",
    "def haar_transform(input_vector):\n",
    "    \"\"\"Compute Haar Transform using wavelet decomposition\"\"\"\n",
    "    n = len(input_vector)\n",
    "    result = input_vector.copy()\n",
    "    step = 1\n",
    "    while step < n:\n",
    "        for i in range(0, n, 2 * step):\n",
    "            avg = (result[i] + result[i + step]) / 2\n",
    "            diff = (result[i] - result[i + step]) / 2\n",
    "            result[i] = avg\n",
    "            result[i + step] = diff\n",
    "        step *= 2\n",
    "    return result\n",
    "\n",
    "# --- Main Program --- #\n",
    "if __name__ == \"__main__\":\n",
    "    input_vector = np.array([1, 2, 3, 4])\n",
    "    print(\"Original input: \",input_vector)\n",
    "    # Walsh Transform\n",
    "    walsh_result = walsh_transform(input_vector)\n",
    "    print(\"Walsh Transform Result: \", walsh_result)\n",
    "    \n",
    "    # Hadamard Transform\n",
    "    hadamard_result = hadamard_transform(input_vector)\n",
    "    print(\"Hadamard Transform Result: \", hadamard_result)\n",
    "    \n",
    "    # Discrete Cosine Transform (DCT)\n",
    "    dct_result = dct_transform(input_vector)\n",
    "    print(\"DCT Transform Result: \", dct_result)\n",
    "    \n",
    "    # Haar Transform\n",
    "    haar_result = haar_transform(input_vector)\n",
    "    print(\"Haar Transform Result: \", haar_result)\n"
   ]
  },
  {
   "cell_type": "code",
   "execution_count": null,
   "id": "b4abc03b",
   "metadata": {},
   "outputs": [],
   "source": []
  }
 ],
 "metadata": {
  "kernelspec": {
   "display_name": "Python 3 (ipykernel)",
   "language": "python",
   "name": "python3"
  },
  "language_info": {
   "codemirror_mode": {
    "name": "ipython",
    "version": 3
   },
   "file_extension": ".py",
   "mimetype": "text/x-python",
   "name": "python",
   "nbconvert_exporter": "python",
   "pygments_lexer": "ipython3",
   "version": "3.9.12"
  }
 },
 "nbformat": 4,
 "nbformat_minor": 5
}
