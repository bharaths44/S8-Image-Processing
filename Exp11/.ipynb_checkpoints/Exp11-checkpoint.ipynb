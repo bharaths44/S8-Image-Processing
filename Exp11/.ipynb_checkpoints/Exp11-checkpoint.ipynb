{
 "cells": [
  {
   "cell_type": "code",
   "execution_count": 1,
   "id": "9e98e532",
   "metadata": {},
   "outputs": [
    {
     "ename": "SyntaxError",
     "evalue": "(unicode error) 'unicodeescape' codec can't decode bytes in position 2-3: truncated \\UXXXXXXXX escape (338066378.py, line 6)",
     "output_type": "error",
     "traceback": [
      "\u001b[1;36m  Input \u001b[1;32mIn [1]\u001b[1;36m\u001b[0m\n\u001b[1;33m    image = cv2.imread('C:\\Users\\Student\\Documents\\Img processing\\image.jpg', cv2.IMREAD_GRAYSCALE)\u001b[0m\n\u001b[1;37m                                                                            ^\u001b[0m\n\u001b[1;31mSyntaxError\u001b[0m\u001b[1;31m:\u001b[0m (unicode error) 'unicodeescape' codec can't decode bytes in position 2-3: truncated \\UXXXXXXXX escape\n"
     ]
    }
   ],
   "source": [
    "import cv2\n",
    "import numpy as np\n",
    "import matplotlib.pyplot as plt\n",
    "\n",
    "# Load grayscale image\n",
    "image = cv2.imread('C:\\\\Users\\\\Student\\\\Documents\\\\Img processing\\\\image.jpg', cv2.IMREAD_GRAYSCALE)\n",
    "\n",
    "if image is None:\n",
    "    raise FileNotFoundError(\"Image not found. Make sure 'image.jpg' exists in the directory.\")\n",
    "\n",
    "# Apply Gaussian blur for noise reduction\n",
    "blurred_image = cv2.GaussianBlur(image, (5, 5), 0)\n",
    "\n",
    "# Edge Detection using Sobel, Prewitt, and Canny\n",
    "sobel_x = cv2.Sobel(blurred_image, cv2.CV_64F, 1, 0, ksize=3)\n",
    "sobel_y = cv2.Sobel(blurred_image, cv2.CV_64F, 0, 1, ksize=3)\n",
    "sobel_edges = cv2.magnitude(sobel_x, sobel_y)\n",
    "\n",
    "prewitt_x = cv2.filter2D(blurred_image, -1, np.array([[1, 0, -1], [1, 0, -1], [1, 0, -1]]))\n",
    "prewitt_y = cv2.filter2D(blurred_image, -1, np.array([[1, 1, 1], [0, 0, 0], [-1, -1, -1]]))\n",
    "prewitt_edges = cv2.magnitude(prewitt_x.astype(np.float32), prewitt_y.astype(np.float32))\n",
    "\n",
    "canny_edges = cv2.Canny(blurred_image, 50, 150)\n",
    "\n",
    "# Line Detection using Hough Transform\n",
    "edges = cv2.Canny(blurred_image, 50, 150)\n",
    "lines = cv2.HoughLines(edges, 1, np.pi/180, 100)\n",
    "line_image = np.copy(image)\n",
    "if lines is not None:\n",
    "    for rho, theta in lines[:, 0]:\n",
    "        a, b = np.cos(theta), np.sin(theta)\n",
    "        x0, y0 = int(a * rho), int(b * rho)\n",
    "        x1, y1 = int(x0 + 1000 * (-b)), int(y0 + 1000 * (a))\n",
    "        x2, y2 = int(x0 - 1000 * (-b)), int(y0 - 1000 * (a))\n",
    "        cv2.line(line_image, (x1, y1), (x2, y2), (255, 0, 0), 2)\n",
    "\n",
    "# Point Detection using Laplacian Filter\n",
    "laplacian = cv2.Laplacian(blurred_image, cv2.CV_64F)\n",
    "\n",
    "# Display Results\n",
    "fig, axes = plt.subplots(2, 4, figsize=(15, 10))\n",
    "\n",
    "axes[0, 0].imshow(image, cmap='gray'); axes[0, 0].set_title(\"Original\")\n",
    "axes[0, 1].imshow(sobel_edges, cmap='gray'); axes[0, 1].set_title(\"Sobel Edges\")\n",
    "axes[0, 2].imshow(prewitt_edges, cmap='gray'); axes[0, 2].set_title(\"Prewitt Edges\")\n",
    "axes[0, 3].imshow(canny_edges, cmap='gray'); axes[0, 3].set_title(\"Canny Edges\")\n",
    "\n",
    "axes[1, 0].imshow(line_image, cmap='gray'); axes[1, 0].set_title(\"Hough Lines\")\n",
    "axes[1, 1].imshow(laplacian, cmap='gray'); axes[1, 1].set_title(\"Laplacian (Point Detection)\")\n",
    "\n",
    "for ax in axes.flatten():\n",
    "    ax.axis('off')\n",
    "\n",
    "plt.tight_layout()\n",
    "plt.show()\n"
   ]
  },
  {
   "cell_type": "code",
   "execution_count": null,
   "id": "d16201bb",
   "metadata": {},
   "outputs": [],
   "source": []
  }
 ],
 "metadata": {
  "kernelspec": {
   "display_name": "Python 3 (ipykernel)",
   "language": "python",
   "name": "python3"
  },
  "language_info": {
   "codemirror_mode": {
    "name": "ipython",
    "version": 3
   },
   "file_extension": ".py",
   "mimetype": "text/x-python",
   "name": "python",
   "nbconvert_exporter": "python",
   "pygments_lexer": "ipython3",
   "version": "3.9.12"
  }
 },
 "nbformat": 4,
 "nbformat_minor": 5
}
